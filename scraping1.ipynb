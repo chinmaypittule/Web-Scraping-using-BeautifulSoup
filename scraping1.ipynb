{
 "cells": [
  {
   "cell_type": "code",
   "execution_count": 1,
   "id": "69b1eecb-91b8-4144-bd61-e9d0d67cee55",
   "metadata": {},
   "outputs": [],
   "source": [
    "import pandas as pd\n",
    "from bs4 import BeautifulSoup as bs\n",
    "import requests"
   ]
  },
  {
   "cell_type": "code",
   "execution_count": 2,
   "id": "add3df66-58e4-4a1a-94ef-a0c424c4489c",
   "metadata": {},
   "outputs": [],
   "source": [
    "url = 'https://www.timesjobs.com/candidate/job-search.html?searchType=personalizedSearch&from=submit&searchTextSrc=&searchTextText=&txtKeywords=python&txtLocation='"
   ]
  },
  {
   "cell_type": "code",
   "execution_count": 3,
   "id": "98697582-b65d-43bc-9d80-2f70d565c4ae",
   "metadata": {},
   "outputs": [],
   "source": [
    "cpage = requests.get(url)"
   ]
  },
  {
   "cell_type": "code",
   "execution_count": 4,
   "id": "08b2e90c-a252-419e-bd99-0b87ba23c97a",
   "metadata": {},
   "outputs": [],
   "source": [
    " soup = bs(cpage.content, 'html.parser')"
   ]
  },
  {
   "cell_type": "code",
   "execution_count": 5,
   "id": "b16f865c-9bdc-414a-b2dd-a4f665dcc1b6",
   "metadata": {},
   "outputs": [],
   "source": [
    "jobs = soup.find_all('li', class_='clearfix job-bx wht-shd-bx')"
   ]
  },
  {
   "cell_type": "code",
   "execution_count": 25,
   "id": "688f32b4-a7ff-452b-82f2-6d8a85a07967",
   "metadata": {},
   "outputs": [],
   "source": [
    "company_name = []\n",
    "experience = []\n",
    "location= []\n",
    "keyskills = []\n",
    "date_posted = []\n",
    "\n",
    "for x in jobs:\n",
    "    companyname = x.find('h3').text.strip()\n",
    "    company_name.append(companyname)\n",
    "    exp = x.find('li').text.replace('card_travel','')\n",
    "    experience.append(exp)\n",
    "    loc = x.find('span').text\n",
    "    location.append(loc)\n",
    "    skills = x.find('span',class_='srp-skills').text.strip().replace(' ','')\n",
    "    keyskills.append(skills)\n",
    "    posted= x.find('span',class_='sim-posted').text.strip()\n",
    "    date_posted.append(posted)"
   ]
  },
  {
   "cell_type": "code",
   "execution_count": 31,
   "id": "faa3c2ba-73d0-471b-af3b-d334d1a3bf8d",
   "metadata": {},
   "outputs": [
    {
     "data": {
      "text/plain": [
       "25"
      ]
     },
     "execution_count": 31,
     "metadata": {},
     "output_type": "execute_result"
    }
   ],
   "source": [
    "len(date_posted)"
   ]
  },
  {
   "cell_type": "code",
   "execution_count": 32,
   "id": "b4aad4bb-61a2-437d-844a-add7b2dd9202",
   "metadata": {},
   "outputs": [
    {
     "data": {
      "text/plain": [
       "25"
      ]
     },
     "execution_count": 32,
     "metadata": {},
     "output_type": "execute_result"
    }
   ],
   "source": [
    "len(experience)"
   ]
  },
  {
   "cell_type": "code",
   "execution_count": null,
   "id": "48e117ee-1642-4db4-b9fb-dc68577d7bab",
   "metadata": {},
   "outputs": [],
   "source": []
  }
 ],
 "metadata": {
  "kernelspec": {
   "display_name": "Python 3 (ipykernel)",
   "language": "python",
   "name": "python3"
  },
  "language_info": {
   "codemirror_mode": {
    "name": "ipython",
    "version": 3
   },
   "file_extension": ".py",
   "mimetype": "text/x-python",
   "name": "python",
   "nbconvert_exporter": "python",
   "pygments_lexer": "ipython3",
   "version": "3.12.0"
  }
 },
 "nbformat": 4,
 "nbformat_minor": 5
}
